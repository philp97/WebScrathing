{
 "cells": [
  {
   "cell_type": "markdown",
   "id": "f3e2c170",
   "metadata": {},
   "source": [
    "# Importing Libraries"
   ]
  },
  {
   "cell_type": "code",
   "execution_count": null,
   "id": "840be687",
   "metadata": {},
   "outputs": [],
   "source": [
    "# Importing required libraries\n",
    "import requests\n",
    "from bs4 import BeautifulSoup\n",
    "import urllib.request\n",
    "import os"
   ]
  },
  {
   "cell_type": "markdown",
   "id": "17410e63",
   "metadata": {},
   "source": [
    "# Downloading only the PDF that contain \"Relato Integrado\"\n",
    "\n",
    "## This code gives the name of the PDF the same as the original PDF"
   ]
  },
  {
   "cell_type": "code",
   "execution_count": 2,
   "id": "1daf7cf6",
   "metadata": {},
   "outputs": [
    {
     "name": "stdout",
     "output_type": "stream",
     "text": [
      "[('Relato Integrado 2022', 'https://api.mziq.com/mzfilemanager/v2/d/53207d1c-63b4-48f1-96b7-19869fae19fe/c5492e73-1aa8-251e-a6c4-c66cdb474f9f?origin=1'), ('Relato Integrado 2021', 'https://api.mziq.com/mzfilemanager/v2/d/53207d1c-63b4-48f1-96b7-19869fae19fe/565d6188-78a5-44f2-a97d-10000e022116?origin=1'), ('Relato Integrado 2020', 'https://api.mziq.com/mzfilemanager/v2/d/53207d1c-63b4-48f1-96b7-19869fae19fe/30a864aa-8ea1-4176-b69f-976c138fcdaa?origin=1')]\n",
      "Downloaded: C:\\Users\\phabi\\Desktop\\MESTRADO\\FGV\\Materias\\4 Quarto\\AI Bisness\\Downloaded_PDFs\\Teste\\Relato Integrado 2022.pdf\n",
      "Downloaded: C:\\Users\\phabi\\Desktop\\MESTRADO\\FGV\\Materias\\4 Quarto\\AI Bisness\\Downloaded_PDFs\\Teste\\Relato Integrado 2021.pdf\n",
      "Downloaded: C:\\Users\\phabi\\Desktop\\MESTRADO\\FGV\\Materias\\4 Quarto\\AI Bisness\\Downloaded_PDFs\\Teste\\Relato Integrado 2020.pdf\n"
     ]
    }
   ],
   "source": [
    "import os\n",
    "import requests\n",
    "from selenium import webdriver\n",
    "from selenium.webdriver.common.by import By\n",
    "import time\n",
    "import re\n",
    "\n",
    "url = 'http://ri-vale.mz-sites.com/informacoes-para-o-mercado/relatorios-anuais/relatorios-de-sustentabilidade/'\n",
    "\n",
    "# Set up the Chrome WebDriver\n",
    "options = webdriver.ChromeOptions()\n",
    "options.add_argument('--headless')  # Run in background without opening a browser window\n",
    "driver = webdriver.Chrome(options=options)\n",
    "\n",
    "# Navigate to the webpage\n",
    "driver.get(url)\n",
    "\n",
    "# Wait for the page to load (adjust the sleep time as necessary)\n",
    "time.sleep(5)\n",
    "\n",
    "# Find all the tr elements, filter them based on title text, and store their href attributes and titles in a list\n",
    "documents = []\n",
    "rows = driver.find_elements(By.CSS_SELECTOR, 'tr')\n",
    "for row in rows:\n",
    "    title_element = row.find_element(By.CSS_SELECTOR, 'td.title span')\n",
    "    title_text = title_element.text\n",
    "    if \"relato integrado\" in title_text.lower():\n",
    "        href = row.find_element(By.CSS_SELECTOR, 'td.download a[href]').get_attribute('href')\n",
    "        documents.append((title_text, href))\n",
    "\n",
    "print(documents)\n",
    "\n",
    "# Close the browser window\n",
    "driver.quit()\n",
    "\n",
    "# Download the PDFs from the hrefs\n",
    "download_directory = r'C:\\Users\\phabi\\Desktop\\MESTRADO\\FGV\\Materias\\4 Quarto\\AI Bisness\\Downloaded_PDFs\\Teste'\n",
    "if not os.path.exists(download_directory):\n",
    "    os.makedirs(download_directory)\n",
    "\n",
    "for title, href in documents:\n",
    "    # Create a valid filename from the title\n",
    "    filename = re.sub(r'[\\\\/:\"*?<>|]+', '', title) + '.pdf'\n",
    "    file_path = os.path.join(download_directory, filename)\n",
    "\n",
    "    response = requests.get(href, stream=True)\n",
    "    if response.status_code == 200:\n",
    "        with open(file_path, 'wb') as file:\n",
    "            for chunk in response.iter_content(chunk_size=8192):\n",
    "                file.write(chunk)\n",
    "        print(f'Downloaded: {file_path}')\n",
    "    else:\n",
    "        print(f'Failed to download from {href}. Status code: {response.status_code}')\n"
   ]
  }
 ],
 "metadata": {
  "kernelspec": {
   "display_name": "Python 3 (ipykernel)",
   "language": "python",
   "name": "python3"
  },
  "language_info": {
   "codemirror_mode": {
    "name": "ipython",
    "version": 3
   },
   "file_extension": ".py",
   "mimetype": "text/x-python",
   "name": "python",
   "nbconvert_exporter": "python",
   "pygments_lexer": "ipython3",
   "version": "3.11.3"
  }
 },
 "nbformat": 4,
 "nbformat_minor": 5
}
