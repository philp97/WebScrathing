{
 "cells": [
  {
   "cell_type": "markdown",
   "id": "0f13bf74",
   "metadata": {},
   "source": [
    "# Overview\n",
    "\n",
    "This code downloads the choosen PDFs from a website and transforms it into a TXT file"
   ]
  },
  {
   "cell_type": "markdown",
   "id": "b7dde1bf",
   "metadata": {},
   "source": [
    "## Libraries"
   ]
  },
  {
   "cell_type": "code",
   "execution_count": 4,
   "id": "1683fed4",
   "metadata": {},
   "outputs": [
    {
     "name": "stdout",
     "output_type": "stream",
     "text": [
      "Collecting pdfminer.six\n",
      "  Downloading pdfminer.six-20221105-py3-none-any.whl (5.6 MB)\n",
      "                                              0.0/5.6 MB ? eta -:--:--\n",
      "     --------                                 1.2/5.6 MB 26.1 MB/s eta 0:00:01\n",
      "     ---------------------                    3.0/5.6 MB 31.8 MB/s eta 0:00:01\n",
      "     ------------------------------           4.3/5.6 MB 34.5 MB/s eta 0:00:01\n",
      "     ---------------------------------------  5.6/5.6 MB 35.9 MB/s eta 0:00:01\n",
      "     ---------------------------------------- 5.6/5.6 MB 30.0 MB/s eta 0:00:00\n",
      "Requirement already satisfied: charset-normalizer>=2.0.0 in d:\\anaconda1\\lib\\site-packages (from pdfminer.six) (2.0.4)\n",
      "Requirement already satisfied: cryptography>=36.0.0 in d:\\anaconda1\\lib\\site-packages (from pdfminer.six) (39.0.1)\n",
      "Requirement already satisfied: cffi>=1.12 in d:\\anaconda1\\lib\\site-packages (from cryptography>=36.0.0->pdfminer.six) (1.15.1)\n",
      "Requirement already satisfied: pycparser in d:\\anaconda1\\lib\\site-packages (from cffi>=1.12->cryptography>=36.0.0->pdfminer.six) (2.21)\n",
      "Installing collected packages: pdfminer.six\n",
      "Successfully installed pdfminer.six-20221105\n"
     ]
    }
   ],
   "source": [
    "# Importing required libraries\n",
    "!pip install pdfminer.six\n",
    "!pip install requests beautifulsoup4\n",
    "!pip install selenium\n",
    "\n",
    "import requests\n",
    "from bs4 import BeautifulSoup\n",
    "import urllib.request\n",
    "import os\n",
    "from selenium import webdriver\n",
    "from selenium.webdriver.common.by import By\n",
    "import time\n",
    "import re"
   ]
  },
  {
   "cell_type": "markdown",
   "id": "59cef89c",
   "metadata": {},
   "source": [
    "## Donwloading the PDFs"
   ]
  },
  {
   "cell_type": "code",
   "execution_count": 2,
   "id": "6436d16a",
   "metadata": {},
   "outputs": [
    {
     "name": "stdout",
     "output_type": "stream",
     "text": [
      "[('Relato Integrado 2022', 'https://api.mziq.com/mzfilemanager/v2/d/53207d1c-63b4-48f1-96b7-19869fae19fe/c5492e73-1aa8-251e-a6c4-c66cdb474f9f?origin=1'), ('Relato Integrado 2021', 'https://api.mziq.com/mzfilemanager/v2/d/53207d1c-63b4-48f1-96b7-19869fae19fe/565d6188-78a5-44f2-a97d-10000e022116?origin=1'), ('Relato Integrado 2020', 'https://api.mziq.com/mzfilemanager/v2/d/53207d1c-63b4-48f1-96b7-19869fae19fe/30a864aa-8ea1-4176-b69f-976c138fcdaa?origin=1')]\n",
      "Downloaded: C:\\Users\\phabi\\Desktop\\MESTRADO\\FGV\\Materias\\4 Quarto\\AI Bisness\\Downloaded_PDFs\\Teste2\\Relato Integrado 2022.pdf\n",
      "Downloaded: C:\\Users\\phabi\\Desktop\\MESTRADO\\FGV\\Materias\\4 Quarto\\AI Bisness\\Downloaded_PDFs\\Teste2\\Relato Integrado 2021.pdf\n",
      "Downloaded: C:\\Users\\phabi\\Desktop\\MESTRADO\\FGV\\Materias\\4 Quarto\\AI Bisness\\Downloaded_PDFs\\Teste2\\Relato Integrado 2020.pdf\n"
     ]
    }
   ],
   "source": [
    "url = 'http://ri-vale.mz-sites.com/informacoes-para-o-mercado/relatorios-anuais/relatorios-de-sustentabilidade/'\n",
    "\n",
    "# Set up the Chrome WebDriver\n",
    "options = webdriver.ChromeOptions()\n",
    "options.add_argument('--headless')  # Run in background without opening a browser window\n",
    "driver = webdriver.Chrome(options=options)\n",
    "\n",
    "# Navigate to the webpage\n",
    "driver.get(url)\n",
    "\n",
    "# Wait for the page to load (adjust the sleep time as necessary)\n",
    "time.sleep(5)\n",
    "\n",
    "# Find all the tr elements, filter them based on title text, and store their href attributes and titles in a list\n",
    "documents = []\n",
    "rows = driver.find_elements(By.CSS_SELECTOR, 'tr')\n",
    "for row in rows:\n",
    "    title_element = row.find_element(By.CSS_SELECTOR, 'td.title span')\n",
    "    title_text = title_element.text\n",
    "    if \"relato integrado\" in title_text.lower():\n",
    "        href = row.find_element(By.CSS_SELECTOR, 'td.download a[href]').get_attribute('href')\n",
    "        documents.append((title_text, href))\n",
    "\n",
    "print(documents)\n",
    "\n",
    "# Close the browser window\n",
    "driver.quit()\n",
    "\n",
    "# Download the PDFs from the hrefs\n",
    "download_directory = r'C:\\Users\\phabi\\Desktop\\MESTRADO\\FGV\\Materias\\4 Quarto\\AI Bisness\\Downloaded_PDFs\\Teste2'\n",
    "if not os.path.exists(download_directory):\n",
    "    os.makedirs(download_directory)\n",
    "\n",
    "for title, href in documents:\n",
    "    # Create a valid filename from the title\n",
    "    filename = re.sub(r'[\\\\/:\"*?<>|]+', '', title) + '.pdf'\n",
    "    file_path = os.path.join(download_directory, filename)\n",
    "\n",
    "    response = requests.get(href, stream=True)\n",
    "    if response.status_code == 200:\n",
    "        with open(file_path, 'wb') as file:\n",
    "            for chunk in response.iter_content(chunk_size=8192):\n",
    "                file.write(chunk)\n",
    "        print(f'Downloaded: {file_path}')\n",
    "    else:\n",
    "        print(f'Failed to download from {href}. Status code: {response.status_code}')"
   ]
  },
  {
   "cell_type": "markdown",
   "id": "f40f0d9d",
   "metadata": {},
   "source": [
    "## Transforming the PDFs into TXT "
   ]
  },
  {
   "cell_type": "code",
   "execution_count": 6,
   "id": "20ec7a81",
   "metadata": {},
   "outputs": [
    {
     "name": "stdout",
     "output_type": "stream",
     "text": [
      "Converted: C:\\Users\\phabi\\Desktop\\MESTRADO\\FGV\\Materias\\4 Quarto\\AI Bisness\\Downloaded_PDFs\\Teste2\\Relato Integrado 2020.pdf to C:\\Users\\phabi\\Desktop\\MESTRADO\\FGV\\Materias\\4 Quarto\\AI Bisness\\Downloaded_PDFs\\Teste2\\Relato Integrado 2020.txt\n",
      "Converted: C:\\Users\\phabi\\Desktop\\MESTRADO\\FGV\\Materias\\4 Quarto\\AI Bisness\\Downloaded_PDFs\\Teste2\\Relato Integrado 2021.pdf to C:\\Users\\phabi\\Desktop\\MESTRADO\\FGV\\Materias\\4 Quarto\\AI Bisness\\Downloaded_PDFs\\Teste2\\Relato Integrado 2021.txt\n",
      "Converted: C:\\Users\\phabi\\Desktop\\MESTRADO\\FGV\\Materias\\4 Quarto\\AI Bisness\\Downloaded_PDFs\\Teste2\\Relato Integrado 2022.pdf to C:\\Users\\phabi\\Desktop\\MESTRADO\\FGV\\Materias\\4 Quarto\\AI Bisness\\Downloaded_PDFs\\Teste2\\Relato Integrado 2022.txt\n"
     ]
    }
   ],
   "source": [
    "import os\n",
    "from pdfminer.high_level import extract_text\n",
    "\n",
    "download_directory = r'C:\\Users\\phabi\\Desktop\\MESTRADO\\FGV\\Materias\\4 Quarto\\AI Bisness\\Downloaded_PDFs\\Teste2'\n",
    "\n",
    "# Convert PDFs to TXT files and remove the PDF files\n",
    "for filename in os.listdir(download_directory):\n",
    "    if filename.endswith('.pdf'):\n",
    "        pdf_path = os.path.join(download_directory, filename)\n",
    "        txt_filename = filename.replace('.pdf', '.txt')\n",
    "        txt_path = os.path.join(download_directory, txt_filename)\n",
    "\n",
    "        # Convert PDF to TXT\n",
    "        text = extract_text(pdf_path)\n",
    "        with open(txt_path, 'w', encoding='utf-8') as txt_file:\n",
    "            txt_file.write(text)\n",
    "        print(f'Converted: {pdf_path} to {txt_path}')"
   ]
  },
  {
   "cell_type": "markdown",
   "id": "75020bb5",
   "metadata": {},
   "source": [
    "## Erasing the PDFs"
   ]
  },
  {
   "cell_type": "code",
   "execution_count": 12,
   "id": "add71262",
   "metadata": {},
   "outputs": [
    {
     "name": "stdout",
     "output_type": "stream",
     "text": [
      "Removed: C:\\Users\\phabi\\Desktop\\MESTRADO\\FGV\\Materias\\4 Quarto\\AI Bisness\\Downloaded_PDFs\\Teste2\\Relato Integrado 2020.pdf\n",
      "Removed: C:\\Users\\phabi\\Desktop\\MESTRADO\\FGV\\Materias\\4 Quarto\\AI Bisness\\Downloaded_PDFs\\Teste2\\Relato Integrado 2021.pdf\n"
     ]
    }
   ],
   "source": [
    "import os\n",
    "\n",
    "download_directory = r'C:\\Users\\phabi\\Desktop\\MESTRADO\\FGV\\Materias\\4 Quarto\\AI Bisness\\Downloaded_PDFs\\Teste2'\n",
    "\n",
    "# Remove the PDF files\n",
    "for filename in os.listdir(download_directory):\n",
    "    if filename.endswith('.pdf'):\n",
    "        pdf_path = os.path.join(download_directory, filename)\n",
    "        \n",
    "        # Remove the PDF file\n",
    "        os.remove(pdf_path)\n",
    "        print(f'Removed: {pdf_path}')\n"
   ]
  }
 ],
 "metadata": {
  "kernelspec": {
   "display_name": "Python 3 (ipykernel)",
   "language": "python",
   "name": "python3"
  },
  "language_info": {
   "codemirror_mode": {
    "name": "ipython",
    "version": 3
   },
   "file_extension": ".py",
   "mimetype": "text/x-python",
   "name": "python",
   "nbconvert_exporter": "python",
   "pygments_lexer": "ipython3",
   "version": "3.11.3"
  }
 },
 "nbformat": 4,
 "nbformat_minor": 5
}
