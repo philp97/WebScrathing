{
 "cells": [
  {
   "cell_type": "code",
   "execution_count": 1,
   "id": "ed05a25f",
   "metadata": {
    "scrolled": true
   },
   "outputs": [
    {
     "name": "stdout",
     "output_type": "stream",
     "text": [
      "Requirement already satisfied: requests in d:\\anaconda1\\lib\\site-packages (2.31.0)\n",
      "Requirement already satisfied: beautifulsoup4 in d:\\anaconda1\\lib\\site-packages (4.12.2)\n",
      "Requirement already satisfied: charset-normalizer<4,>=2 in d:\\anaconda1\\lib\\site-packages (from requests) (2.0.4)\n",
      "Requirement already satisfied: idna<4,>=2.5 in d:\\anaconda1\\lib\\site-packages (from requests) (3.4)\n",
      "Requirement already satisfied: urllib3<3,>=1.21.1 in d:\\anaconda1\\lib\\site-packages (from requests) (1.26.16)\n",
      "Requirement already satisfied: certifi>=2017.4.17 in d:\\anaconda1\\lib\\site-packages (from requests) (2023.7.22)\n",
      "Requirement already satisfied: soupsieve>1.2 in d:\\anaconda1\\lib\\site-packages (from beautifulsoup4) (2.4)\n",
      "Requirement already satisfied: selenium in d:\\anaconda1\\lib\\site-packages (4.15.0)\n",
      "Requirement already satisfied: urllib3[socks]<3,>=1.26 in d:\\anaconda1\\lib\\site-packages (from selenium) (1.26.16)\n",
      "Requirement already satisfied: trio~=0.17 in d:\\anaconda1\\lib\\site-packages (from selenium) (0.22.2)\n",
      "Requirement already satisfied: trio-websocket~=0.9 in d:\\anaconda1\\lib\\site-packages (from selenium) (0.11.1)\n",
      "Requirement already satisfied: certifi>=2021.10.8 in d:\\anaconda1\\lib\\site-packages (from selenium) (2023.7.22)\n",
      "Requirement already satisfied: attrs>=20.1.0 in d:\\anaconda1\\lib\\site-packages (from trio~=0.17->selenium) (22.1.0)\n",
      "Requirement already satisfied: sortedcontainers in d:\\anaconda1\\lib\\site-packages (from trio~=0.17->selenium) (2.4.0)\n",
      "Requirement already satisfied: idna in d:\\anaconda1\\lib\\site-packages (from trio~=0.17->selenium) (3.4)\n",
      "Requirement already satisfied: outcome in d:\\anaconda1\\lib\\site-packages (from trio~=0.17->selenium) (1.3.0.post0)\n",
      "Requirement already satisfied: sniffio in d:\\anaconda1\\lib\\site-packages (from trio~=0.17->selenium) (1.2.0)\n",
      "Requirement already satisfied: cffi>=1.14 in d:\\anaconda1\\lib\\site-packages (from trio~=0.17->selenium) (1.15.1)\n",
      "Requirement already satisfied: wsproto>=0.14 in d:\\anaconda1\\lib\\site-packages (from trio-websocket~=0.9->selenium) (1.2.0)\n",
      "Requirement already satisfied: PySocks!=1.5.7,<2.0,>=1.5.6 in d:\\anaconda1\\lib\\site-packages (from urllib3[socks]<3,>=1.26->selenium) (1.7.1)\n",
      "Requirement already satisfied: pycparser in d:\\anaconda1\\lib\\site-packages (from cffi>=1.14->trio~=0.17->selenium) (2.21)\n",
      "Requirement already satisfied: h11<1,>=0.9.0 in d:\\anaconda1\\lib\\site-packages (from wsproto>=0.14->trio-websocket~=0.9->selenium) (0.14.0)\n"
     ]
    }
   ],
   "source": [
    "# Step 1: Install Libraries\n",
    "!pip install requests beautifulsoup4\n",
    "!pip install selenium"
   ]
  },
  {
   "cell_type": "markdown",
   "id": "34fbf76b",
   "metadata": {},
   "source": [
    "# Libraries"
   ]
  },
  {
   "cell_type": "code",
   "execution_count": 2,
   "id": "987071f9",
   "metadata": {},
   "outputs": [],
   "source": [
    "import requests\n",
    "from bs4 import BeautifulSoup\n",
    "from selenium import webdriver\n",
    "from selenium.webdriver.common.by import By\n",
    "import time\n",
    "import os\n",
    "import requests\n",
    "from selenium import webdriver\n",
    "from selenium.webdriver.common.by import By\n",
    "import time\n",
    "from selenium import webdriver\n",
    "from selenium.webdriver.common.by import By\n",
    "import time"
   ]
  },
  {
   "cell_type": "markdown",
   "id": "f8bb6f37",
   "metadata": {},
   "source": [
    "# Finding all the Links to download"
   ]
  },
  {
   "cell_type": "code",
   "execution_count": 3,
   "id": "fffa3b0e",
   "metadata": {
    "scrolled": false
   },
   "outputs": [
    {
     "name": "stdout",
     "output_type": "stream",
     "text": [
      "['https://api.mziq.com/mzfilemanager/v2/d/53207d1c-63b4-48f1-96b7-19869fae19fe/c5492e73-1aa8-251e-a6c4-c66cdb474f9f?origin=1', 'https://api.mziq.com/mzfilemanager/v2/d/53207d1c-63b4-48f1-96b7-19869fae19fe/565d6188-78a5-44f2-a97d-10000e022116?origin=1', 'https://api.mziq.com/mzfilemanager/v2/d/53207d1c-63b4-48f1-96b7-19869fae19fe/30a864aa-8ea1-4176-b69f-976c138fcdaa?origin=1', 'https://api.mziq.com/mzfilemanager/v2/d/53207d1c-63b4-48f1-96b7-19869fae19fe/e1eb3212-49a8-43dd-90ae-c746ade9e255?origin=1', 'https://api.mziq.com/mzfilemanager/v2/d/53207d1c-63b4-48f1-96b7-19869fae19fe/ec49ca4e-7b5b-49f4-91b1-164bd5bdfe37?origin=1', 'https://api.mziq.com/mzfilemanager/v2/d/53207d1c-63b4-48f1-96b7-19869fae19fe/00f81eda-98d7-4e9c-aede-14d4ac6f0bdd?origin=1', 'https://api.mziq.com/mzfilemanager/v2/d/53207d1c-63b4-48f1-96b7-19869fae19fe/de5a44e5-22fa-4e38-9484-fa70694ed479?origin=1', 'https://api.mziq.com/mzfilemanager/v2/d/53207d1c-63b4-48f1-96b7-19869fae19fe/762c678b-564c-4573-b9c5-6052ac878153?origin=1', 'https://api.mziq.com/mzfilemanager/v2/d/53207d1c-63b4-48f1-96b7-19869fae19fe/a1ac552b-10aa-4b67-a363-1e365349be80?origin=1', 'https://api.mziq.com/mzfilemanager/v2/d/53207d1c-63b4-48f1-96b7-19869fae19fe/cc4d1b3b-76d2-4a78-ac9b-b8a1e14cb698?origin=1']\n"
     ]
    }
   ],
   "source": [
    "url = 'http://ri-vale.mz-sites.com/informacoes-para-o-mercado/relatorios-anuais/relatorios-de-sustentabilidade/'\n",
    "\n",
    "# Set up the Chrome WebDriver\n",
    "options = webdriver.ChromeOptions()\n",
    "options.add_argument('--headless')  # Run in background without opening a browser window\n",
    "driver = webdriver.Chrome(options=options)\n",
    "\n",
    "# Navigate to the webpage\n",
    "driver.get(url)\n",
    "\n",
    "# Wait for the page to load (adjust the sleep time as necessary)\n",
    "time.sleep(5)\n",
    "\n",
    "# Find all the td elements with class 'download' and store their href attributes in a list\n",
    "download_cells = driver.find_elements(By.CSS_SELECTOR, 'td.download a[href]')\n",
    "href_list = [cell.get_attribute('href') for cell in download_cells]\n",
    "print(href_list)\n",
    "\n",
    "# Close the browser window\n",
    "driver.quit()"
   ]
  },
  {
   "cell_type": "markdown",
   "id": "ea380a9c",
   "metadata": {},
   "source": [
    "# Downloading all the PDFs"
   ]
  },
  {
   "cell_type": "code",
   "execution_count": 4,
   "id": "68d98ab0",
   "metadata": {
    "scrolled": true
   },
   "outputs": [
    {
     "name": "stdout",
     "output_type": "stream",
     "text": [
      "Downloaded: C:\\Users\\phabi\\Desktop\\MESTRADO\\FGV\\Materias\\4 Quarto\\AI Bisness\\Downloaded_PDFs\\Teste\\document_1.pdf\n",
      "Downloaded: C:\\Users\\phabi\\Desktop\\MESTRADO\\FGV\\Materias\\4 Quarto\\AI Bisness\\Downloaded_PDFs\\Teste\\document_2.pdf\n",
      "Downloaded: C:\\Users\\phabi\\Desktop\\MESTRADO\\FGV\\Materias\\4 Quarto\\AI Bisness\\Downloaded_PDFs\\Teste\\document_3.pdf\n",
      "Downloaded: C:\\Users\\phabi\\Desktop\\MESTRADO\\FGV\\Materias\\4 Quarto\\AI Bisness\\Downloaded_PDFs\\Teste\\document_4.pdf\n",
      "Downloaded: C:\\Users\\phabi\\Desktop\\MESTRADO\\FGV\\Materias\\4 Quarto\\AI Bisness\\Downloaded_PDFs\\Teste\\document_5.pdf\n",
      "Downloaded: C:\\Users\\phabi\\Desktop\\MESTRADO\\FGV\\Materias\\4 Quarto\\AI Bisness\\Downloaded_PDFs\\Teste\\document_6.pdf\n",
      "Downloaded: C:\\Users\\phabi\\Desktop\\MESTRADO\\FGV\\Materias\\4 Quarto\\AI Bisness\\Downloaded_PDFs\\Teste\\document_7.pdf\n",
      "Downloaded: C:\\Users\\phabi\\Desktop\\MESTRADO\\FGV\\Materias\\4 Quarto\\AI Bisness\\Downloaded_PDFs\\Teste\\document_8.pdf\n",
      "Downloaded: C:\\Users\\phabi\\Desktop\\MESTRADO\\FGV\\Materias\\4 Quarto\\AI Bisness\\Downloaded_PDFs\\Teste\\document_9.pdf\n",
      "Downloaded: C:\\Users\\phabi\\Desktop\\MESTRADO\\FGV\\Materias\\4 Quarto\\AI Bisness\\Downloaded_PDFs\\Teste\\document_10.pdf\n"
     ]
    }
   ],
   "source": [
    "# Download the PDFs from the hrefs\n",
    "download_directory = r'C:\\Users\\phabi\\Desktop\\MESTRADO\\FGV\\Materias\\4 Quarto\\AI Bisness\\Downloaded_PDFs\\Teste'\n",
    "if not os.path.exists(download_directory):\n",
    "    os.makedirs(download_directory)\n",
    "\n",
    "for i, href in enumerate(href_list, start=1):\n",
    "    response = requests.get(href, stream=True)\n",
    "    if response.status_code == 200:\n",
    "        file_path = os.path.join(download_directory, f'document_{i}.pdf')\n",
    "        with open(file_path, 'wb') as file:\n",
    "            for chunk in response.iter_content(chunk_size=8192):\n",
    "                file.write(chunk)\n",
    "        print(f'Downloaded: {file_path}')\n",
    "    else:\n",
    "        print(f'Failed to download from {href}. Status code: {response.status_code}')"
   ]
  },
  {
   "cell_type": "markdown",
   "id": "4f1f30c0",
   "metadata": {},
   "source": [
    "# Finding only the HREF with Relato Integrado"
   ]
  },
  {
   "cell_type": "code",
   "execution_count": 5,
   "id": "cf8d9e6f",
   "metadata": {
    "scrolled": true
   },
   "outputs": [
    {
     "name": "stdout",
     "output_type": "stream",
     "text": [
      "['https://api.mziq.com/mzfilemanager/v2/d/53207d1c-63b4-48f1-96b7-19869fae19fe/c5492e73-1aa8-251e-a6c4-c66cdb474f9f?origin=1', 'https://api.mziq.com/mzfilemanager/v2/d/53207d1c-63b4-48f1-96b7-19869fae19fe/565d6188-78a5-44f2-a97d-10000e022116?origin=1', 'https://api.mziq.com/mzfilemanager/v2/d/53207d1c-63b4-48f1-96b7-19869fae19fe/30a864aa-8ea1-4176-b69f-976c138fcdaa?origin=1']\n"
     ]
    }
   ],
   "source": [
    "import os\n",
    "import requests\n",
    "from selenium import webdriver\n",
    "from selenium.webdriver.common.by import By\n",
    "import time\n",
    "\n",
    "url = 'http://ri-vale.mz-sites.com/informacoes-para-o-mercado/relatorios-anuais/relatorios-de-sustentabilidade/'\n",
    "\n",
    "# Set up the Chrome WebDriver\n",
    "options = webdriver.ChromeOptions()\n",
    "options.add_argument('--headless')  # Run in background without opening a browser window\n",
    "driver = webdriver.Chrome(options=options)\n",
    "\n",
    "# Navigate to the webpage\n",
    "driver.get(url)\n",
    "\n",
    "# Wait for the page to load (adjust the sleep time as necessary)\n",
    "time.sleep(5)\n",
    "\n",
    "# Find all the tr elements, filter them based on title text, and store their href attributes in a list\n",
    "rows = driver.find_elements(By.CSS_SELECTOR, 'tr')\n",
    "href_list = []\n",
    "for row in rows:\n",
    "    title = row.find_element(By.CSS_SELECTOR, 'td.title').text\n",
    "    if \"relato integrado\" in title.lower():\n",
    "        href = row.find_element(By.CSS_SELECTOR, 'td.download a[href]').get_attribute('href')\n",
    "        href_list.append(href)\n",
    "\n",
    "print(href_list)\n",
    "\n",
    "# Close the browser window\n",
    "driver.quit()"
   ]
  },
  {
   "cell_type": "markdown",
   "id": "ea4b8a26",
   "metadata": {},
   "source": [
    "# Donloading only the HREF with Relato Integrado"
   ]
  },
  {
   "cell_type": "code",
   "execution_count": 6,
   "id": "1f170486",
   "metadata": {},
   "outputs": [
    {
     "name": "stdout",
     "output_type": "stream",
     "text": [
      "Downloaded: C:\\Users\\phabi\\Desktop\\MESTRADO\\FGV\\Materias\\4 Quarto\\AI Bisness\\Downloaded_PDFs\\Teste\\Vale Relatório Integrado_1.pdf\n",
      "Downloaded: C:\\Users\\phabi\\Desktop\\MESTRADO\\FGV\\Materias\\4 Quarto\\AI Bisness\\Downloaded_PDFs\\Teste\\Vale Relatório Integrado_2.pdf\n",
      "Downloaded: C:\\Users\\phabi\\Desktop\\MESTRADO\\FGV\\Materias\\4 Quarto\\AI Bisness\\Downloaded_PDFs\\Teste\\Vale Relatório Integrado_3.pdf\n"
     ]
    }
   ],
   "source": [
    "# Download the PDFs from the hrefs\n",
    "download_directory = r'C:\\Users\\phabi\\Desktop\\MESTRADO\\FGV\\Materias\\4 Quarto\\AI Bisness\\Downloaded_PDFs\\Teste'\n",
    "if not os.path.exists(download_directory):\n",
    "    os.makedirs(download_directory)\n",
    "\n",
    "for i, href in enumerate(href_list, start=1):\n",
    "    response = requests.get(href, stream=True)\n",
    "    if response.status_code == 200:\n",
    "        file_path = os.path.join(download_directory, f'Vale Relatório Integrado_{i}.pdf')\n",
    "        with open(file_path, 'wb') as file:\n",
    "            for chunk in response.iter_content(chunk_size=8192):\n",
    "                file.write(chunk)\n",
    "        print(f'Downloaded: {file_path}')\n",
    "    else:\n",
    "        print(f'Failed to download from {href}. Status code: {response.status_code}')"
   ]
  }
 ],
 "metadata": {
  "kernelspec": {
   "display_name": "Python 3 (ipykernel)",
   "language": "python",
   "name": "python3"
  },
  "language_info": {
   "codemirror_mode": {
    "name": "ipython",
    "version": 3
   },
   "file_extension": ".py",
   "mimetype": "text/x-python",
   "name": "python",
   "nbconvert_exporter": "python",
   "pygments_lexer": "ipython3",
   "version": "3.11.3"
  }
 },
 "nbformat": 4,
 "nbformat_minor": 5
}
