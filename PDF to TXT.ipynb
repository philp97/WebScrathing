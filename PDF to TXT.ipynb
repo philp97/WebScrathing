{
 "cells": [
  {
   "cell_type": "code",
   "execution_count": 2,
   "id": "281d52fd",
   "metadata": {},
   "outputs": [
    {
     "name": "stdout",
     "output_type": "stream",
     "text": [
      "Collecting PyPDF2\n",
      "  Downloading pypdf2-3.0.1-py3-none-any.whl (232 kB)\n",
      "                                              0.0/232.6 kB ? eta -:--:--\n",
      "     ------------------------------------- 232.6/232.6 kB 13.9 MB/s eta 0:00:00\n",
      "Installing collected packages: PyPDF2\n",
      "Successfully installed PyPDF2-3.0.1\n"
     ]
    }
   ],
   "source": [
    "!pip install PyPDF2"
   ]
  },
  {
   "cell_type": "code",
   "execution_count": 4,
   "id": "6bef3f4a",
   "metadata": {},
   "outputs": [
    {
     "name": "stdout",
     "output_type": "stream",
     "text": [
      "Text extracted and saved to C:\\Users\\phabi\\Desktop\\MESTRADO\\FGV\\Materias\\4 Quarto\\AI Bisness\\Downloaded_PDFs\\Vale\\Relato Integrado 2020.txt\n",
      "Text extracted and saved to C:\\Users\\phabi\\Desktop\\MESTRADO\\FGV\\Materias\\4 Quarto\\AI Bisness\\Downloaded_PDFs\\Vale\\Relato Integrado 2021.txt\n",
      "Text extracted and saved to C:\\Users\\phabi\\Desktop\\MESTRADO\\FGV\\Materias\\4 Quarto\\AI Bisness\\Downloaded_PDFs\\Vale\\VALE Relato Integrado 2022.txt\n"
     ]
    }
   ],
   "source": [
    "import PyPDF2\n",
    "import os\n",
    "\n",
    "def pdf_to_text(pdf_path, output_path):\n",
    "    try:\n",
    "        with open(pdf_path, 'rb') as pdf_file:\n",
    "            reader = PyPDF2.PdfReader(pdf_file)\n",
    "            text = ''\n",
    "            for page in reader.pages:\n",
    "                text += page.extract_text() + '\\n'\n",
    "            \n",
    "        with open(output_path, 'w', encoding='utf-8') as text_file:\n",
    "            text_file.write(text)\n",
    "            \n",
    "        print(f'Text extracted and saved to {output_path}')\n",
    "        \n",
    "    except Exception as e:\n",
    "        print(f'An error occurred while processing {pdf_path}: {str(e)}')\n",
    "\n",
    "def batch_convert(pdf_directory, text_directory):\n",
    "    if not os.path.exists(pdf_directory):\n",
    "        print(f\"Error: The specified PDF directory does not exist: {pdf_directory}\")\n",
    "        return\n",
    "    if not os.path.exists(text_directory):\n",
    "        os.makedirs(text_directory)\n",
    "        \n",
    "    for filename in os.listdir(pdf_directory):\n",
    "        if filename.endswith('.pdf'):\n",
    "            pdf_path = os.path.join(pdf_directory, filename)\n",
    "            text_filename = filename.replace('.pdf', '.txt')\n",
    "            text_path = os.path.join(text_directory, text_filename)\n",
    "            pdf_to_text(pdf_path, text_path)\n",
    "\n",
    "# Specifying the paths:\n",
    "pdf_directory = r'C:\\Users\\phabi\\Desktop\\MESTRADO\\FGV\\Materias\\4 Quarto\\AI Bisness\\Financial Statements\\Vale'\n",
    "text_directory = r'C:\\Users\\phabi\\Desktop\\MESTRADO\\FGV\\Materias\\4 Quarto\\AI Bisness\\Downloaded_PDFs\\Vale'\n",
    "\n",
    "# Converting PDFs to text files:\n",
    "batch_convert(pdf_directory, text_directory)\n"
   ]
  }
 ],
 "metadata": {
  "kernelspec": {
   "display_name": "Python 3 (ipykernel)",
   "language": "python",
   "name": "python3"
  },
  "language_info": {
   "codemirror_mode": {
    "name": "ipython",
    "version": 3
   },
   "file_extension": ".py",
   "mimetype": "text/x-python",
   "name": "python",
   "nbconvert_exporter": "python",
   "pygments_lexer": "ipython3",
   "version": "3.11.3"
  }
 },
 "nbformat": 4,
 "nbformat_minor": 5
}
